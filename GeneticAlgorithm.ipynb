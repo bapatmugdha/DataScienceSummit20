{
  "nbformat": 4,
  "nbformat_minor": 0,
  "metadata": {
    "colab": {
      "name": "GeneticAlgorithm",
      "provenance": [],
      "collapsed_sections": [
        "Vmed3PY_EhgK"
      ],
      "authorship_tag": "ABX9TyMooPefuXSqQ5DRmG7O0VuD",
      "include_colab_link": true
    },
    "kernelspec": {
      "name": "python3",
      "display_name": "Python 3"
    }
  },
  "cells": [
    {
      "cell_type": "markdown",
      "metadata": {
        "id": "view-in-github",
        "colab_type": "text"
      },
      "source": [
        "<a href=\"https://colab.research.google.com/github/bapatmugdha/DataScienceSummit20/blob/master/GeneticAlgorithm.ipynb\" target=\"_parent\"><img src=\"https://colab.research.google.com/assets/colab-badge.svg\" alt=\"Open In Colab\"/></a>"
      ]
    },
    {
      "cell_type": "markdown",
      "metadata": {
        "id": "Vmed3PY_EhgK",
        "colab_type": "text"
      },
      "source": [
        "## Import necessary libraries"
      ]
    },
    {
      "cell_type": "markdown",
      "metadata": {
        "id": "60uJtMF1FLsc",
        "colab_type": "text"
      },
      "source": [
        ""
      ]
    },
    {
      "cell_type": "code",
      "metadata": {
        "id": "8SM2XrkqEf1p",
        "colab_type": "code",
        "colab": {}
      },
      "source": [
        "import random  as random\n",
        "import numpy as np\n"
      ],
      "execution_count": null,
      "outputs": []
    },
    {
      "cell_type": "markdown",
      "metadata": {
        "id": "aGgZUFqREqmt",
        "colab_type": "text"
      },
      "source": [
        "## Create Population Class"
      ]
    },
    {
      "cell_type": "code",
      "metadata": {
        "id": "f3dfldqBFR0n",
        "colab_type": "code",
        "colab": {}
      },
      "source": [
        "class Population:\n",
        "#Initialize the Population , random  chessboard states\n",
        "## GA setup\n",
        "    def __init__(self,num_queens=8,population_size=50, mutationRate=0.4):\n",
        "        self.num_queens = num_queens\n",
        "        self.population_size= population_size\n",
        "        self.population = self.makePopulation()\n",
        "        self.matingpool = []\n",
        "        self.populationfitness=[]\n",
        "        self.mutationRate = mutationRate\n",
        "        self.populationfitness = self.calcFitness()\n",
        "\n",
        "##generate Population of given size \n",
        "    def makePopulation(self):\n",
        "        population = []\n",
        "        boardsize = self.num_queens\n",
        "        for i in range(self.population_size):\n",
        "            population.append(Board(boardsize))\n",
        "        return population\n",
        " "
      ],
      "execution_count": null,
      "outputs": []
    },
    {
      "cell_type": "code",
      "metadata": {
        "id": "t3KDEL7aFdsz",
        "colab_type": "code",
        "colab": {}
      },
      "source": [
        "   \n",
        "##Calculate fitness for the entire population   \n",
        "    def calcFitness(self):\n",
        "        fitness= []\n",
        "        pop= self.population\n",
        "        for cboards in pop:\n",
        "            fitness.append(cboards.getFitness())\n",
        "        return fitness \n",
        "    \n",
        "#generate a mating pool    \n",
        "    def naturalSelection(self):\n",
        "        self.matingpool = []\n",
        "        maxval = max(self.populationfitness)\n",
        "      \n",
        "        for i in range(self.population_size):\n",
        "            probconvert = np.floor(((((maxval-self.populationfitness[i])/maxval)*(1-0))+0)*100)\n",
        "            for index in range(int(probconvert)):\n",
        "                self.matingpool.append(self.population[i])\n",
        "      \n",
        "\n",
        "        \n",
        "## generate new population    \n",
        "    def generate(self):\n",
        "        for i in range(self.population_size):\n",
        "            PartnerAindex = random.randint(0,self.population_size-1)\n",
        "            PartnerBindex = random.randint(0,self.population_size-1)\n",
        "\n",
        "            PartnerA = self.matingpool[PartnerAindex] \n",
        "            PartnerB = self.matingpool[PartnerBindex] \n",
        "\n",
        "            child = PartnerA.crossover(PartnerB)\n",
        "            child.mutate(self.mutationRate)\n",
        "            self.population[i] = child\n",
        "            \n",
        "            \n",
        "    def evaluate(self):\n",
        "        print(\"hi\")\n",
        "        \n",
        "## GA algorithm order    \n",
        "        ##natural selection\n",
        "        ## update population\n",
        "        ## recalculate fitness\n",
        "    def draw(self):\n",
        "         self.naturalSelection()\n",
        "         self.generate()\n",
        "         self.populationfitness =[]\n",
        "         #print(self.populationfitness)\n",
        "         self.populationfitness = self.calcFitness()\n",
        "         #print(self.populationfitness)\n",
        "\n"
      ],
      "execution_count": null,
      "outputs": []
    },
    {
      "cell_type": "markdown",
      "metadata": {
        "id": "lk6h57sMFk-N",
        "colab_type": "text"
      },
      "source": [
        "## Create Board Classs"
      ]
    },
    {
      "cell_type": "code",
      "metadata": {
        "id": "2rKe0dlgFrRN",
        "colab_type": "code",
        "colab": {}
      },
      "source": [
        "## Class for Chromosome and genes\n",
        "##Class to define chess board in NQueen problem\n",
        "class Board:\n",
        "## initialize board with random positions for the Queen\n",
        "    def __init__(self,size):\n",
        "        self.fitness = 0\n",
        "        self.boardsize = size\n",
        "        self.board = self.create_Board()\n",
        "\n",
        "##use 1D to represnt the board\n",
        "## indexes indicate rows and values indicate columns\n",
        "## create board such that queens are not placed in same column        \n",
        "    def create_Board(self):\n",
        "        board = [ x  for x in range(self.boardsize)]\n",
        "        random.shuffle(board)\n",
        "        return board\n",
        "    "
      ],
      "execution_count": null,
      "outputs": []
    },
    {
      "cell_type": "code",
      "metadata": {
        "id": "S5LYyYUqFuyW",
        "colab_type": "code",
        "colab": {}
      },
      "source": [
        "   \n",
        "##Find the number of Queens that attack the given queen    \n",
        "    def getFitness(self):\n",
        "        n = len(self.board)\n",
        "        diagNWSE = {}\n",
        "        diagSWNE = {}\n",
        "        cnt =0\n",
        "        row= []\n",
        "        col= []\n",
        "        cost =0\n",
        "  \n",
        "# reset attack on cells to  0\n",
        "# 0 indicates no attack\n",
        "# n indicates attack by n queens \n",
        "        for i in range(n):\n",
        "            row.append(0)\n",
        "            col.append(0)\n",
        "            \n",
        "        for cnt in range(-(n-1),n):\n",
        "            diagNWSE[cnt]= 0\n",
        "        for cnt in range(2*n-1):\n",
        "            diagSWNE[cnt]= 0\n",
        "\n",
        "# calculate attack on each by all queens  \n",
        "        for i in range(n):\n",
        "            j= self.board[i]\n",
        "            diagNWSE[j-i] +=1 \n",
        "            diagSWNE[j+i] +=1\n",
        "            row[i]+=1\n",
        "            col[j]+=1\n",
        "# calculate the attack on each queen for the given board configuration           \n",
        "        costboard = []\n",
        "        for i in range(n):\n",
        "            j= self.board[i]\n",
        "            costboard.append(diagNWSE[j-i]- 1 + diagSWNE[j+i]-1+row[i]-1+col[j]-1)\n",
        "            cost= max(costboard)\n",
        "        return cost\n",
        "        "
      ],
      "execution_count": null,
      "outputs": []
    },
    {
      "cell_type": "code",
      "metadata": {
        "id": "aeu6yxfiFyFm",
        "colab_type": "code",
        "colab": {}
      },
      "source": [
        "       \n",
        "#define the crossover process.\n",
        "# accept the values on positions where they match for both partners\n",
        "# select the remaining values from possible values for remaining locations        \n",
        "    def crossover(self,partner):\n",
        "        child = Board(self.boardsize)\n",
        "        n = len(self.board)\n",
        "        current = [ -1 for x in range(n)]\n",
        "        possible = [ x  for x in range(n)]\n",
        "\n",
        "        \n",
        "        for i in range(len(child.board)):\n",
        "                if self.board[i]== partner.board[i]:\n",
        "                    child.board[i]=self.board[i]\n",
        "                    possible.remove(self.board[i])\n",
        "                    current[i]=self.board[i]\n",
        "\n",
        "                    \n",
        "        for i in range(len(child.board)):\n",
        "                if current[i] == -1:\n",
        "                    current[i] = random.choice(possible)\n",
        "                    child.board[i] = current[i]\n",
        "                    possible.remove(current[i])\n",
        "           \n",
        "        return child\n",
        "        \n",
        "\n",
        "# mutation  by random swapping of column values    \n",
        "    def mutate(self,mutationRate):\n",
        "            randno = random.random()\n",
        "\n",
        "            boardnew = self.board\n",
        "            if randno< mutationRate:\n",
        "                pos1 = random.randint(0,7)\n",
        "                pos2 = random.randint(0,7)\n",
        "\n",
        "                boardnew[pos1], boardnew[pos2] = boardnew[pos2], boardnew[pos1]\n",
        "                self.board = boardnew    \n",
        "   \n"
      ],
      "execution_count": null,
      "outputs": []
    }
  ]
}